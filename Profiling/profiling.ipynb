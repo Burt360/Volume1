{
  "cells": [
    {
      "cell_type": "code",
      "execution_count": 1,
      "metadata": {
        "id": "bQuUiJ5Zuknu"
      },
      "outputs": [],
      "source": [
        "# profiling.py\n",
        "\"\"\"Python Essentials: Profiling.\n",
        "Nathan Schill\n",
        "Section 2\n",
        "Tues. Mar. 28, 2023\n",
        "\"\"\"\n",
        "\n",
        "# Note: for problems 1-4, you need only implement the second function listed.\n",
        "# For example, you need to write max_path_fast(), but keep max_path() unchanged\n",
        "# so you can do a before-and-after comparison.\n",
        "\n",
        "import numpy as np\n",
        "# from numba import jit"
      ]
    },
    {
      "cell_type": "code",
      "execution_count": 2,
      "metadata": {
        "id": "Ti2-uRxsurEA"
      },
      "outputs": [],
      "source": [
        "# Problem 1\n",
        "def max_path(filename='triangle.txt'):\n",
        "    \"\"\"Find the maximum vertical path in a triangle of values.\"\"\"\n",
        "    with open(filename, 'r') as infile:\n",
        "        data = [[int(n) for n in line.split()]\n",
        "                        for line in infile.readlines()]\n",
        "    def path_sum(r, c, total):\n",
        "        \"\"\"Recursively compute the max sum of the path starting in row r\n",
        "        and column c, given the current total.\n",
        "        \"\"\"\n",
        "        total += data[r][c]\n",
        "        if r == len(data) - 1:          # Base case.\n",
        "            return total\n",
        "        else:                           # Recursive case.\n",
        "            return max(path_sum(r+1, c,   total),   # Next row, same column\n",
        "                       path_sum(r+1, c+1, total))   # Next row, next column\n",
        "\n",
        "    return path_sum(0, 0, 0)            # Start the recursion from the top.\n",
        "\n",
        "def max_path_fast(filename='triangle_large.txt'):\n",
        "    \"\"\"Find the maximum vertical path in a triangle of values.\"\"\"\n",
        "\n",
        "    # Read file into list of lists\n",
        "    with open(filename, 'r') as infile:\n",
        "        data = [[int(n) for n in line.split()]\n",
        "                        for line in infile.readlines()]\n",
        "    \n",
        "    # Start with penultimate row\n",
        "    for i in range(len(data)-2, -1, -1):\n",
        "        # Iterate across entries\n",
        "        for j in range(len(data[i])):\n",
        "            # Add to the current entry the max of the two entries below\n",
        "            data[i][j] += max(data[i+1][j], data[i+1][j+1])\n",
        "    \n",
        "    # Max path sum is at top of triangle\n",
        "    return data[0][0]"
      ]
    },
    {
      "cell_type": "code",
      "execution_count": null,
      "metadata": {
        "colab": {
          "base_uri": "https://localhost:8080/"
        },
        "id": "ZENEoIMi2z0n",
        "outputId": "2f4ff1fd-47b3-4c4b-963c-94db1d9233c6"
      },
      "outputs": [
        {
          "name": "stdout",
          "output_type": "stream",
          "text": [
            "11 ms ± 687 µs per loop (mean ± std. dev. of 7 runs, 100 loops each)\n",
            "102 µs ± 29.1 µs per loop (mean ± std. dev. of 7 runs, 10000 loops each)\n"
          ]
        }
      ],
      "source": [
        "%timeit max_path()\n",
        "%timeit max_path_fast('triangle.txt')"
      ]
    },
    {
      "cell_type": "code",
      "execution_count": 23,
      "metadata": {
        "id": "E5wNuS0autWc"
      },
      "outputs": [],
      "source": [
        "# Problem 2\n",
        "### Hint: Prime factorizations -> only need to check primes\n",
        "def primes(N):\n",
        "    \"\"\"Compute the first N primes.\"\"\"\n",
        "    primes_list = []\n",
        "    current = 2\n",
        "    while len(primes_list) < N:\n",
        "        isprime = True\n",
        "        for i in range(2, current):     # Check for nontrivial divisors.\n",
        "            if current % i == 0:\n",
        "                isprime = False\n",
        "        if isprime:\n",
        "            primes_list.append(current)\n",
        "        current += 1\n",
        "    return primes_list\n",
        "\n",
        "def primes_fast(N):\n",
        "    \"\"\"Compute the first N primes.\"\"\"\n",
        "\n",
        "    # Init with 2 since the only even prime\n",
        "    primes = [2] + [None] * (N-1)\n",
        "    num_primes = 1\n",
        "\n",
        "    # Start at 3 and iterate until have N primes\n",
        "    current = 3\n",
        "    while num_primes < N:\n",
        "        # Store the square root of current\n",
        "        _sqrt = current**(1/2)\n",
        "        isprime = True\n",
        "        \n",
        "        # Check whether each known prime (skipping 2) less than _sqrt divides current\n",
        "        for p in primes[1:num_primes]:\n",
        "            if current % p == 0:\n",
        "                # Not prime\n",
        "                isprime = False\n",
        "                break\n",
        "            \n",
        "            # Don't need to check any more primes\n",
        "            if p >= _sqrt:\n",
        "                # No prime divides current, so current is prime\n",
        "                break\n",
        "        \n",
        "        if isprime:\n",
        "            primes[num_primes] = current\n",
        "            num_primes += 1\n",
        "        current += 2\n",
        "    \n",
        "    return primes\n"
      ]
    },
    {
      "cell_type": "code",
      "execution_count": null,
      "metadata": {
        "id": "lCGhUDOYeX6K"
      },
      "outputs": [],
      "source": [
        "### Using a set to store primes instead of a list\n",
        "def primes_fast(N):\n",
        "    \"\"\"Compute the first N primes.\"\"\"\n",
        "\n",
        "    # Init with 2 since the only even prime\n",
        "    primes = {2}\n",
        "    num_primes = 1\n",
        "\n",
        "    # Start at 3 and iterate until have N primes\n",
        "    current = 3\n",
        "    while num_primes < N:\n",
        "        # Store the square root of current\n",
        "        _sqrt = current**(1/2)\n",
        "        \n",
        "        # Check whether each known prime less than _sqrt divides current\n",
        "        for p in primes:\n",
        "            \n",
        "            if current % p == 0:\n",
        "                # Not prime\n",
        "                break\n",
        "            \n",
        "            ### TODO: Sets don't iterate in insertion order\n",
        "            # Don't need to check any more primes\n",
        "            if p >= _sqrt:\n",
        "                # No prime divides current, so current is prime\n",
        "                primes.add(current)\n",
        "                num_primes += 1\n",
        "                break\n",
        "        \n",
        "        current += 2\n",
        "    \n",
        "    return primes"
      ]
    },
    {
      "cell_type": "code",
      "execution_count": 24,
      "metadata": {
        "colab": {
          "base_uri": "https://localhost:8080/"
        },
        "id": "ZHy74vQQ5MqN",
        "outputId": "6253a6e7-6c38-4e78-fc05-7913e873b1d7"
      },
      "outputs": [
        {
          "data": {
            "text/plain": [
              "([2, 3, 5, 7, 11, 13, 17, 19, 23, 29], [2, 3, 5, 7, 11, 13, 17, 19, 23, 29])"
            ]
          },
          "execution_count": 24,
          "metadata": {},
          "output_type": "execute_result"
        }
      ],
      "source": [
        "N = 10\n",
        "primes(N), primes_fast(N)"
      ]
    },
    {
      "cell_type": "code",
      "execution_count": 25,
      "metadata": {
        "colab": {
          "base_uri": "https://localhost:8080/"
        },
        "id": "F5PN69zm8aIM",
        "outputId": "3772880d-5990-4aa6-ff43-26c9cdba6b69"
      },
      "outputs": [
        {
          "name": "stdout",
          "output_type": "stream",
          "text": [
            "CPU times: total: 1.27 s\n",
            "Wall time: 1.35 s\n",
            "\n"
          ]
        }
      ],
      "source": [
        "### TODO\n",
        "%time primes_fast(10000)\n",
        "print()"
      ]
    },
    {
      "cell_type": "code",
      "execution_count": null,
      "metadata": {
        "colab": {
          "base_uri": "https://localhost:8080/"
        },
        "id": "vGTPTQAruvHs",
        "outputId": "e5215ad1-2760-4c6d-c46d-e2de1a2f95c1"
      },
      "outputs": [
        {
          "data": {
            "text/plain": [
              "0"
            ]
          },
          "execution_count": 128,
          "metadata": {},
          "output_type": "execute_result"
        }
      ],
      "source": [
        "# Problem 3\n",
        "def nearest_column(A, x):\n",
        "    \"\"\"Find the index of the column of A that is closest to x.\n",
        "\n",
        "    Parameters:\n",
        "        A ((m,n) ndarray)\n",
        "        x ((m, ) ndarray)\n",
        "\n",
        "    Returns:\n",
        "        (int): The index of the column of A that is closest in norm to x.\n",
        "    \"\"\"\n",
        "    distances = []\n",
        "    for j in range(A.shape[1]):\n",
        "        distances.append(np.linalg.norm(A[:,j] - x))\n",
        "    \n",
        "    return np.argmin(distances)\n",
        "\n",
        "def nearest_column_fast(A, x):\n",
        "    \"\"\"Find the index of the column of A that is closest in norm to x.\n",
        "    Refrain from using any loops or list comprehensions.\n",
        "\n",
        "    Parameters:\n",
        "        A ((m,n) ndarray)\n",
        "        x ((m, ) ndarray)\n",
        "\n",
        "    Returns:\n",
        "        (int): The index of the column of A that is closest in norm to x.\n",
        "    \"\"\"\n",
        "    \n",
        "    return np.argmin(np.linalg.norm(A-x[:, np.newaxis], axis=0))\n",
        "\n",
        "A = np.array([[1, 2, 3], [1, 2, 3]])\n",
        "x = np.array([1, 1])\n",
        "\n",
        "nearest_column_fast(A, x)"
      ]
    },
    {
      "cell_type": "code",
      "execution_count": null,
      "metadata": {
        "colab": {
          "base_uri": "https://localhost:8080/"
        },
        "id": "mYDM66SbDPRU",
        "outputId": "c263ea47-689f-4383-9030-9228478c6780"
      },
      "outputs": [
        {
          "name": "stdout",
          "output_type": "stream",
          "text": [
            "CPU times: user 2.47 ms, sys: 31 µs, total: 2.5 ms\n",
            "Wall time: 1.82 ms\n",
            "CPU times: user 147 µs, sys: 0 ns, total: 147 µs\n",
            "Wall time: 150 µs\n"
          ]
        },
        {
          "data": {
            "text/plain": [
              "58"
            ]
          },
          "execution_count": 129,
          "metadata": {},
          "output_type": "execute_result"
        }
      ],
      "source": [
        "N = 100\n",
        "A = np.random.random((N, N))\n",
        "x = np.random.random(N)\n",
        "\n",
        "%time nearest_column(A, x)\n",
        "%time nearest_column_fast(A, x)"
      ]
    },
    {
      "cell_type": "code",
      "execution_count": null,
      "metadata": {
        "id": "CnKj3CWBuwYo"
      },
      "outputs": [],
      "source": [
        "# Problem 4\n",
        "### Hint: Use comprehensions (list, dictionary, etc.) and NumPy array operations\n",
        "def name_scores(filename=\"names.txt\"):\n",
        "    \"\"\"Find the total of the name scores in the given file.\"\"\"\n",
        "    with open(filename, 'r') as infile:\n",
        "        names = sorted(infile.read().replace('\"', '').split(','))\n",
        "    total = 0\n",
        "    for i in range(len(names)):\n",
        "        name_value = 0\n",
        "        for j in range(len(names[i])):\n",
        "            alphabet = \"ABCDEFGHIJKLMNOPQRSTUVWXYZ\"\n",
        "            for k in range(len(alphabet)):\n",
        "                if names[i][j] == alphabet[k]:\n",
        "                    letter_value = k + 1\n",
        "            name_value += letter_value\n",
        "        total += (names.index(names[i]) + 1) * name_value\n",
        "    return total\n",
        "\n",
        "def name_scores_fast(filename='names.txt'):\n",
        "    \"\"\"Find the total of the name scores in the given file.\"\"\"\n",
        "    raise NotImplementedError(\"Problem 4 Incomplete\")\n",
        "\n",
        "\n"
      ]
    },
    {
      "cell_type": "code",
      "execution_count": null,
      "metadata": {
        "id": "BXL7Prx7uxUx"
      },
      "outputs": [],
      "source": [
        "# Problem 5\n",
        "def fibonacci():\n",
        "    \"\"\"Yield the terms of the Fibonacci sequence with F_1 = F_2 = 1.\"\"\"\n",
        "    raise NotImplementedError(\"Problem 5 Incomplete\")\n",
        "\n",
        "def fibonacci_digits(N=1000):\n",
        "    \"\"\"Return the index of the first term in the Fibonacci sequence with\n",
        "    N digits.\n",
        "\n",
        "    Returns:\n",
        "        (int): The index.\n",
        "    \"\"\"\n",
        "    raise NotImplementedError(\"Problem 5 Incomplete\")\n",
        "\n",
        "\n"
      ]
    },
    {
      "cell_type": "code",
      "execution_count": null,
      "metadata": {
        "id": "QconWAyauypE"
      },
      "outputs": [],
      "source": [
        "# Problem 6\n",
        "### Numba: lab machines, ssh lab machines, or Colab\n",
        "def prime_sieve(N):\n",
        "    \"\"\"Yield all primes that are less than N.\"\"\"\n",
        "    raise NotImplementedError(\"Problem 6 Incomplete\")\n",
        "\n",
        "\n"
      ]
    },
    {
      "cell_type": "code",
      "execution_count": null,
      "metadata": {
        "id": "RqFNPoGxuzxB"
      },
      "outputs": [],
      "source": [
        "# Problem 7\n",
        "def matrix_power(A, n):\n",
        "    \"\"\"Compute A^n, the n-th power of the matrix A.\"\"\"\n",
        "    product = A.copy()\n",
        "    temporary_array = np.empty_like(A[0])\n",
        "    m = A.shape[0]\n",
        "    for power in range(1, n):\n",
        "        for i in range(m):\n",
        "            for j in range(m):\n",
        "                total = 0\n",
        "                for k in range(m):\n",
        "                    total += product[i,k] * A[k,j]\n",
        "                temporary_array[j] = total\n",
        "            product[i] = temporary_array\n",
        "    return product\n",
        "\n",
        "def matrix_power_numba(A, n):\n",
        "    \"\"\"Compute A^n, the n-th power of the matrix A, with Numba optimization.\"\"\"\n",
        "    raise NotImplementedError(\"Problem 7 Incomplete\")\n",
        "\n"
      ]
    },
    {
      "cell_type": "code",
      "execution_count": null,
      "metadata": {
        "id": "4HqfeGE1vDx7"
      },
      "outputs": [],
      "source": [
        "def prob7(n=10):\n",
        "    \"\"\"Time matrix_power(), matrix_power_numba(), and np.linalg.matrix_power()\n",
        "    on square matrices of increasing size. Plot the times versus the size.\n",
        "    \"\"\"\n",
        "    raise NotImplementedError(\"Problem 7 Incomplete\")\n"
      ]
    }
  ],
  "metadata": {
    "colab": {
      "provenance": []
    },
    "kernelspec": {
      "display_name": "Python 3",
      "name": "python3"
    },
    "language_info": {
      "codemirror_mode": {
        "name": "ipython",
        "version": 3
      },
      "file_extension": ".py",
      "mimetype": "text/x-python",
      "name": "python",
      "nbconvert_exporter": "python",
      "pygments_lexer": "ipython3",
      "version": "3.9.12"
    }
  },
  "nbformat": 4,
  "nbformat_minor": 0
}
