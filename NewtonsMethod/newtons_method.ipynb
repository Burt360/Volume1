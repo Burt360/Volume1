{
 "cells": [
  {
   "cell_type": "code",
   "execution_count": 2,
   "metadata": {},
   "outputs": [],
   "source": [
    "# newtons_method.py\n",
    "\"\"\"Volume 1: Newton's Method.\n",
    "Nathan Schill\n",
    "Section 2\n",
    "Tues. Feb. 7, 2023\n",
    "\"\"\"\n",
    "\n",
    "import numpy as np\n",
    "import matplotlib.pyplot as plt\n",
    "from scipy import optimize\n",
    "import sympy as sy"
   ]
  },
  {
   "cell_type": "code",
   "execution_count": 3,
   "metadata": {},
   "outputs": [
    {
     "data": {
      "text/plain": [
       "(array([1., 0.]), True, 6)"
      ]
     },
     "execution_count": 3,
     "metadata": {},
     "output_type": "execute_result"
    }
   ],
   "source": [
    "# Problems 1, 3, and 5\n",
    "def newton(f, x0, Df, tol=1e-5, maxiter=15, alpha=1.):\n",
    "    \"\"\"Use Newton's method to approximate a zero of the function f.\n",
    "\n",
    "    Parameters:\n",
    "        f (function): a function from R^n to R^n (assume n=1 until Problem 5).\n",
    "        x0 (float or ndarray): The initial guess for the zero of f.\n",
    "        Df (function): The derivative of f, a function from R^n to R^(nxn).\n",
    "        tol (float): Convergence tolerance. The function should returns when\n",
    "            the difference between successive approximations is less than tol.\n",
    "        maxiter (int): The maximum number of iterations to compute.\n",
    "        alpha (float): Backtracking scalar (Problem 3).\n",
    "\n",
    "    Returns:\n",
    "        (float or ndarray): The approximation for a zero of f.\n",
    "        (bool): Whether or not Newton's method converged.\n",
    "        (int): The number of iterations computed.\n",
    "    \"\"\"\n",
    "\n",
    "    # Assume failure to converge unless tolerance is reached\n",
    "    converged = False\n",
    "\n",
    "    # If f: R -> R\n",
    "    if np.isscalar(x0):\n",
    "        \n",
    "        # Iterate at most N times\n",
    "        for k in range(maxiter):\n",
    "            \n",
    "            # Compute the next iteration\n",
    "            x1 = x0 - alpha*f(x0)/Df(x0)\n",
    "            \n",
    "            # Check for convergence\n",
    "            if np.abs(x1 - x0) < tol:\n",
    "                # Upon convergence, stop iterating\n",
    "                converged = True\n",
    "                break\n",
    "\n",
    "            # Otherwise, update the guess for the next iteration\n",
    "            x0 = x1\n",
    "        \n",
    "        return x1, converged, k\n",
    "    \n",
    "    # Else, f: R^n -> R^n\n",
    "    else:\n",
    "        # Iterate at most N times\n",
    "        for k in range(maxiter):\n",
    "\n",
    "            # Solve Df(xk)yk = f(xk) for y\n",
    "            y = np.linalg.solve(Df(x0), f(x0))\n",
    "            \n",
    "            # Compute the next iteration\n",
    "            x1 = x0 - alpha*y\n",
    "            \n",
    "            # Check for convergence with 2-norm\n",
    "            if np.linalg.norm(x1 - x0) < tol:\n",
    "                # Upon convergence, stop iterating\n",
    "                converged = True\n",
    "                break\n",
    "\n",
    "            # Otherwise, update the guess for the next iteration\n",
    "            x0 = x1\n",
    "        \n",
    "        return x1, converged, k\n",
    "\n",
    "\n",
    "# newton(lambda x: x/2, 10, lambda x: 1/2, maxiter=8)\n",
    "# print(newton(lambda x: np.exp(x)-2, 2, lambda x: np.exp(x)))\n",
    "# optimize.newton(lambda x: np.exp(x)-2, 2, lambda x: np.exp(x))\n",
    "\n",
    "# Test alpha\n",
    "# newton(lambda x: np.sign(x) * np.power(np.abs(x), 1./3), 0.01, lambda x: 1/3 * np.power(np.abs(x), -2./3), alpha=0.4)\n",
    "\n",
    "# Test multivariate\n",
    "def f(input):\n",
    "    '''f: R2 -> R2, f(x,y) = (x**2 + y**2 - 1, y)'''\n",
    "\n",
    "    # Input should be ndarray\n",
    "    x, y = input\n",
    "    return np.array([x**2 + y**2 - 1, y])\n",
    "\n",
    "def Df(input):\n",
    "    x, y = input\n",
    "\n",
    "    return np.array([[2*x, 2*y], [0, 1]])\n",
    "\n",
    "newton(f, np.array([1,2]), Df)"
   ]
  },
  {
   "cell_type": "code",
   "execution_count": 4,
   "metadata": {},
   "outputs": [
    {
     "data": {
      "text/plain": [
       "0.03877843223027751"
      ]
     },
     "execution_count": 4,
     "metadata": {},
     "output_type": "execute_result"
    }
   ],
   "source": [
    "# Problem 2\n",
    "def prob2(N1, N2, P1, P2):\n",
    "    \"\"\"Use Newton's method to solve for the constant r that satisfies\n",
    "\n",
    "                P1[(1+r)**N1 - 1] = P2[1 - (1+r)**(-N2)].\n",
    "\n",
    "    Use r_0 = 0.1 for the initial guess.\n",
    "\n",
    "    Parameters:\n",
    "        P1 (float): Amount of money deposited into account at the beginning of\n",
    "            years 1, 2, ..., N1.\n",
    "        P2 (float): Amount of money withdrawn at the beginning of years N1+1,\n",
    "            N1+2, ..., N1+N2.\n",
    "        N1 (int): Number of years money is deposited.\n",
    "        N2 (int): Number of years money is withdrawn.\n",
    "\n",
    "    Returns:\n",
    "        (float): the value of r that satisfies the equation.\n",
    "    \"\"\"\n",
    "\n",
    "    # Define initial guess, f, Df\n",
    "    x0 = 0.1\n",
    "    f = lambda r: P1*((1+r)**N1 - 1) - P2*(1 - (1+r)**(-N2))\n",
    "    Df = lambda r: P1*N1*(1+r)**(N1-1) - P2*N2*(1+r)**(-N2-1)\n",
    "\n",
    "    # Return Newton's method on f\n",
    "    return newton(f, x0, Df, maxiter=100)[0]\n",
    "\n",
    "prob2(30, 20, 2000, 8000)"
   ]
  },
  {
   "cell_type": "code",
   "execution_count": 20,
   "metadata": {},
   "outputs": [
    {
     "data": {
      "image/png": "[encoded data removed]",
      "text/plain": [
       "<Figure size 432x288 with 1 Axes>"
      ]
     },
     "metadata": {
      "needs_background": "light"
     },
     "output_type": "display_data"
    },
    {
     "data": {
      "text/plain": [
       "0.333"
      ]
     },
     "execution_count": 20,
     "metadata": {},
     "output_type": "execute_result"
    }
   ],
   "source": [
    "# Problem 4\n",
    "def optimal_alpha(f, x0, Df, tol=1e-5, maxiter=15):\n",
    "    \"\"\"Run Newton's method for various values of alpha in (0,1].\n",
    "    Plot the alpha value against the number of iterations until convergence.\n",
    "\n",
    "    Parameters:\n",
    "        f (function): a function from R^n to R^n (assume n=1 until Problem 5).\n",
    "        x0 (float or ndarray): The initial guess for the zero of f.\n",
    "        Df (function): The derivative of f, a function from R^n to R^(nxn).\n",
    "        tol (float): Convergence tolerance. The function should returns when\n",
    "            the difference between successive approximations is less than tol.\n",
    "        maxiter (int): The maximum number of iterations to compute.\n",
    "\n",
    "    Returns:\n",
    "        (float): a value for alpha that results in the lowest number of\n",
    "            iterations.\n",
    "    \"\"\"\n",
    "    \n",
    "    # Get alpha values at the specified distance apart\n",
    "    space = 0.001\n",
    "    A = np.linspace(0.1, 1, int((1-0.1)/space + 1))\n",
    "\n",
    "    # Get number of iterations of each a\n",
    "    num_iters = [None] * len(A)\n",
    "    for i, a in enumerate(A):\n",
    "        num_iters[i] = newton(f, 0.01, Df, alpha=a)[2]\n",
    "\n",
    "    # Plot\n",
    "    plt.plot(A, num_iters)\n",
    "    plt.show()\n",
    "    \n",
    "    # Get value of alpha that yielded lowest number of iterations,\n",
    "    # defaulting to the lower alpha in case of a tie\n",
    "    return A[np.argmin(num_iters)]\n",
    "\n",
    "# Define f and Df\n",
    "f = lambda x: np.sign(x) * np.power(np.abs(x), 1./3)\n",
    "Df = lambda x: 1/3 * np.power(np.abs(x), -2./3)\n",
    "\n",
    "optimal_alpha(f, 0.01, Df)"
   ]
  },
  {
   "cell_type": "code",
   "execution_count": 6,
   "metadata": {},
   "outputs": [
    {
     "data": {
      "text/latex": [
       "$\\displaystyle \\left[\\begin{matrix}4 y - 1 & 4 x\\\\- y & - x - 2 y\\end{matrix}\\right]$"
      ],
      "text/plain": [
       "Matrix([\n",
       "[4*y - 1,      4*x],\n",
       "[     -y, -x - 2*y]])"
      ]
     },
     "execution_count": 6,
     "metadata": {},
     "output_type": "execute_result"
    }
   ],
   "source": [
    "c, d = 5, 1\n",
    "x, y = sy.symbols('x y')\n",
    "expr = sy.Matrix([c*x*y - x*(1+y), -x*y + (d-y)*(1+y)])\n",
    "expr.jacobian((x,y))"
   ]
  },
  {
   "cell_type": "code",
   "execution_count": 37,
   "metadata": {},
   "outputs": [
    {
     "data": {
      "text/plain": [
       "array([-0.00501672,  0.24916388])"
      ]
     },
     "execution_count": 37,
     "metadata": {},
     "output_type": "execute_result"
    }
   ],
   "source": [
    "# Problem 6\n",
    "def prob6():\n",
    "    \"\"\"Consider the following Bioremediation system.\n",
    "\n",
    "                              5xy − x(1 + y) = 0\n",
    "                        −xy + (1 − y)(1 + y) = 0\n",
    "\n",
    "    Find an initial point such that Newton’s method converges to either\n",
    "    (0,1) or (0,−1) with alpha = 1, and to (3.75, .25) with alpha = 0.55.\n",
    "    Return the intial point as a 1-D NumPy array with 2 entries.\n",
    "    \"\"\"\n",
    "    \n",
    "    # Define gamma, delta, tol, maxiter\n",
    "    c, d = 5, 1\n",
    "    \n",
    "    # Define f and Df\n",
    "    def f(input):\n",
    "        '''f: R2 -> R2, f(x,y) = ( c*x*y - x*(1+y),\n",
    "                                   -x*y + (d-y)*(1+y) )'''\n",
    "\n",
    "        # Input should be ndarray\n",
    "        x, y = input\n",
    "        return np.array([c*x*y - x*(1+y),\n",
    "                         -x*y + (d-y)*(1+y)])\n",
    "\n",
    "    def Df(input):\n",
    "        '''Df: R2 -> B(R2)'''\n",
    "\n",
    "        # Input should be ndarray\n",
    "        x, y = input\n",
    "        return np.array([[c*y - (1+y),          c*x - x],\n",
    "                         [-y,          -x + d - 1 - 2*y]])\n",
    "    \n",
    "    # Define alpha values\n",
    "    A = (0.55, 1)\n",
    "\n",
    "    # Iterate through points\n",
    "    num_pts_each_dir = 300\n",
    "    pts = [(i, j) for i in np.linspace(0, -1/4, num_pts_each_dir) for j in np.linspace(0, 1/4, num_pts_each_dir)]\n",
    "\n",
    "    for pt in pts:\n",
    "        # Get results from Newton's method for both alpha values (skip any errors from non-invertible derivative matrices)\n",
    "        results = [None] * 2\n",
    "        for i, a in enumerate(A):\n",
    "            try:\n",
    "                results[i] = newton(f, pt, Df, alpha=a)\n",
    "            except np.linalg.LinAlgError:\n",
    "                pass\n",
    "        \n",
    "        # Verify the results are None (which would result from a non-invertible derivative matrix)\n",
    "        if results[0] is not None and results[1] is not None:\n",
    "            # Check if the value converged to the expected zero for the corresponding alpha\n",
    "            if np.allclose(results[0][0], (3.75, 0.25)) and\\\n",
    "               (np.allclose(results[1][0], (0,1)) or np.allclose(results[1][0], (0,-1))):\n",
    "                # Found point; return it\n",
    "                return np.array(pt)\n",
    "    \n",
    "    return 'Not found'\n",
    "\n",
    "# Define gamma, delta, tol, maxiter\n",
    "c, d = 5, 1\n",
    "tol = 1e-5\n",
    "\n",
    "# Define f and Df\n",
    "def f(input):\n",
    "    '''f: R2 -> R2, f(x,y) = ( c*x*y - x*(1+y),\n",
    "                                -x*y + (d-y)*(1+y) )'''\n",
    "\n",
    "    # Input should be ndarray\n",
    "    x, y = input\n",
    "    return np.array([c*x*y - x*(1+y),\n",
    "                        -x*y + (d-y)*(1+y)])\n",
    "\n",
    "def Df(input):\n",
    "    '''Df: R2 -> B(R2)'''\n",
    "\n",
    "    # Input should be ndarray\n",
    "    x, y = input\n",
    "    return np.array([[c*y - (1+y),          c*x - x],\n",
    "                        [-y,          -x + d - 1 - 2*y]])\n",
    "\n",
    "x0 = prob6()\n",
    "x0\n",
    "\n",
    "# newton(f, x0, Df, tol=tol, alpha=0.55), newton(f, x0, Df, tol=tol, alpha=1)"
   ]
  },
  {
   "cell_type": "code",
   "execution_count": 8,
   "metadata": {},
   "outputs": [
    {
     "data": {
      "image/png": "[encoded data removed]",
      "text/plain": [
       "<Figure size 432x288 with 1 Axes>"
      ]
     },
     "metadata": {
      "needs_background": "light"
     },
     "output_type": "display_data"
    },
    {
     "data": {
      "image/png": "[encoded data removed]",
      "text/plain": [
       "<Figure size 432x288 with 1 Axes>"
      ]
     },
     "metadata": {
      "needs_background": "light"
     },
     "output_type": "display_data"
    }
   ],
   "source": [
    "# Problem 7\n",
    "def plot_basins(f, Df, zeros, domain, res=1000, iters=15):\n",
    "    \"\"\"Plot the basins of attraction of f on the complex plane.\n",
    "\n",
    "    Parameters:\n",
    "        f (function): A function from C to C.\n",
    "        Df (function): The derivative of f, a function from C to C.\n",
    "        zeros (ndarray): A 1-D array of the zeros of f.\n",
    "        domain ([r_min, r_max, i_min, i_max]): A list of scalars that define\n",
    "            the window limits and grid domain for the plot.\n",
    "        res (int): A scalar that determines the resolution of the plot.\n",
    "            The visualized grid has shape (res, res).\n",
    "        iters (int): The exact number of times to iterate Newton's method.\n",
    "    \"\"\"\n",
    "    # Unpack interval bounds\n",
    "    rmin, rmax, imin, imax = domain\n",
    "\n",
    "    # Real parts\n",
    "    x_real = np.linspace(rmin, rmax, res)\n",
    "\n",
    "    # Imaginary parts\n",
    "    x_imag = np.linspace(imin, imax, res)\n",
    "    X_real, X_imag = np.meshgrid(x_real, x_imag)\n",
    "\n",
    "    # Combine real and imaginary parts\n",
    "    X_0 = X_real + 1j*X_imag\n",
    "\n",
    "    # Create tmp to keep X_0\n",
    "    X_tmp = X_0\n",
    "\n",
    "    # Iterate through Newton's method iters times for every element in X_tmp\n",
    "    for _ in range(iters):\n",
    "        X_tmp = X_tmp - f(X_tmp)/Df(X_tmp)\n",
    "    \n",
    "    # Compute absolute distance from X_tmp to each zero\n",
    "    Yzeros = [np.abs(X_tmp - zero) for zero in zeros]\n",
    "    \n",
    "    # Get index of zero that has the min absolute distance\n",
    "    Y = np.argmin(Yzeros, axis=0)\n",
    "    \n",
    "    # Plot properties\n",
    "    plt.title('Basins of attraction of $f$')\n",
    "    plt.xlabel('real')\n",
    "    plt.ylabel('imaginary')\n",
    "    plt.show()\n",
    "    \n",
    "### f(x) = x^3 - 1\n",
    "f = lambda x: x**3 - 1\n",
    "Df = lambda x: 3*x**2\n",
    "\n",
    "zeros = (1,\n",
    "        -1/2 + 1j * 3**(1/2) / 2,\n",
    "        -1/2 - 1j * 3**(1/2) / 2)\n",
    "domain = (-1.5, 1.5, -1.5, 1.5)\n",
    "plot_basins(f, Df, zeros, domain)\n",
    "\n",
    "### f(x) = x^3 - x\n",
    "f = lambda x: x**3 - x\n",
    "Df = lambda x: 3*x**2 - 1\n",
    "\n",
    "zeros = (-1, 0, 1)\n",
    "domain = (-1.5, 1.5, -1.5, 1.5)\n",
    "plot_basins(f, Df, zeros, domain)"
   ]
  }
 ],
 "metadata": {
  "kernelspec": {
   "display_name": "base",
   "language": "python",
   "name": "python3"
  },
  "language_info": {
   "codemirror_mode": {
    "name": "ipython",
    "version": 3
   },
   "file_extension": ".py",
   "mimetype": "text/x-python",
   "name": "python",
   "nbconvert_exporter": "python",
   "pygments_lexer": "ipython3",
   "version": "3.9.12"
  },
  "orig_nbformat": 4,
  "vscode": {
   "interpreter": {
    "hash": "ad2bdc8ecc057115af97d19610ffacc2b4e99fae6737bb82f5d7fb13d2f2c186"
   }
  }
 },
 "nbformat": 4,
 "nbformat_minor": 2
}
