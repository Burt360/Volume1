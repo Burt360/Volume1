{
 "cells": [
  {
   "cell_type": "code",
   "execution_count": 186,
   "metadata": {},
   "outputs": [],
   "source": [
    "# montecarlo_integration.py\n",
    "\"\"\"Volume 1: Monte Carlo Integration.\n",
    "Nathan Schill\n",
    "Section 2\n",
    "Tues. Feb. 21, 2023\n",
    "\"\"\"\n",
    "\n",
    "import numpy as np\n",
    "from scipy import linalg as la\n",
    "from scipy import stats\n",
    "import matplotlib.pyplot as plt"
   ]
  },
  {
   "cell_type": "code",
   "execution_count": 2,
   "metadata": {},
   "outputs": [
    {
     "data": {
      "text/plain": [
       "3.1488"
      ]
     },
     "execution_count": 2,
     "metadata": {},
     "output_type": "execute_result"
    }
   ],
   "source": [
    "# Problem 1\n",
    "def ball_volume(n, N=10000):\n",
    "    \"\"\"Estimate the volume of the n-dimensional unit ball.\n",
    "\n",
    "    Parameters:\n",
    "        n (int): The dimension of the ball. n=2 corresponds to the unit circle,\n",
    "            n=3 corresponds to the unit sphere, and so on.\n",
    "        N (int): The number of random points to sample.\n",
    "\n",
    "    Returns:\n",
    "        (float): An estimate for the volume of the n-dimensional unit ball.\n",
    "    \"\"\"\n",
    "\n",
    "    # Get N points from n-interval [-1, 1] x ... x [-1, 1] in R^n\n",
    "    points = np.random.uniform(-1, 1, (n, N))\n",
    "\n",
    "    # Get distances from origin\n",
    "    lengths = la.norm(points, axis=0)\n",
    "\n",
    "    # Count points within unit ball\n",
    "    num_within = np.count_nonzero(lengths < 1)\n",
    "\n",
    "    # Multiply percentage of points within unit ball by volume\n",
    "    # of n-interval used in uniform distribution above\n",
    "    return 2**n * (num_within/N)\n",
    "    \n",
    "ball_volume(2)"
   ]
  },
  {
   "cell_type": "code",
   "execution_count": 4,
   "metadata": {},
   "outputs": [
    {
     "data": {
      "text/plain": [
       "(24.043750962204598,\n",
       " -0.11772501732127713,\n",
       " 2.3060472719997662,\n",
       " 4.491477200798263)"
      ]
     },
     "execution_count": 4,
     "metadata": {},
     "output_type": "execute_result"
    }
   ],
   "source": [
    "# Problem 2\n",
    "def mc_integrate1d(f, a, b, N=10000):\n",
    "    \"\"\"Approximate the integral of f on the interval [a,b].\n",
    "\n",
    "    Parameters:\n",
    "        f (function): the function to integrate. Accepts and returns scalars.\n",
    "        a (float): the lower bound of interval of integration.\n",
    "        b (float): the lower bound of interval of integration.\n",
    "        N (int): The number of random points to sample.\n",
    "\n",
    "    Returns:\n",
    "        (float): An approximation of the integral of f over [a,b].\n",
    "\n",
    "    Example:\n",
    "        >>> f = lambda x: x**2\n",
    "        >>> mc_integrate1d(f, -4, 2)    # Integrate from -4 to 2.\n",
    "        23.734810301138324              # The true value is 24.\n",
    "    \"\"\"\n",
    "    \n",
    "    # Sample N random points from [a, b]\n",
    "    pts = np.random.uniform(a, b, size=N)\n",
    "\n",
    "    # Get V(omega)\n",
    "    vol = b-a\n",
    "\n",
    "    # Use equation (11.2) from lab PDF\n",
    "    return vol*np.mean(f(pts))\n",
    "\n",
    "\n",
    "f = lambda x: np.abs(np.sin(10*x)*np.cos(10*x) + x**(1/2) * np.sin(3*x))\n",
    "mc_integrate1d(lambda x: x**2, -4, 2), mc_integrate1d(lambda x: np.sin(x), -2*np.pi, 2*np.pi),\\\n",
    "mc_integrate1d(lambda x: 1/x, 1, 10), mc_integrate1d(f, 1, 5), "
   ]
  },
  {
   "cell_type": "code",
   "execution_count": 183,
   "metadata": {},
   "outputs": [],
   "source": [
    "# Problem 3\n",
    "def mc_integrate(f, mins, maxs, N=10000):\n",
    "    \"\"\"Approximate the integral of f over the box defined by mins and maxs.\n",
    "\n",
    "    Parameters:\n",
    "        f (function): The function to integrate. Accepts and returns\n",
    "            1-D NumPy arrays of length n.\n",
    "        mins (list): the lower bounds of integration.\n",
    "        maxs (list): the upper bounds of integration.\n",
    "        N (int): The number of random points to sample.\n",
    "\n",
    "    Returns:\n",
    "        (float): An approximation of the integral of f over the domain.\n",
    "\n",
    "    Example:\n",
    "        # Define f(x,y) = 3x - 4y + y^2. Inputs are grouped into an array.\n",
    "        >>> f = lambda x: 3*x[0] - 4*x[1] + x[1]**2\n",
    "\n",
    "        # Integrate over the box [1,3]x[-2,1].\n",
    "        >>> mc_integrate(f, [1, -2], [3, 1])\n",
    "        53.562651072181225              # The true value is 54.\n",
    "    \"\"\"\n",
    "\n",
    "    # Number of dimensions\n",
    "    n = len(mins)\n",
    "\n",
    "    # Change to ndarrays; get V(omega)\n",
    "    mins, maxs = np.array(mins), np.array(maxs)\n",
    "    vol = np.prod(maxs-mins)\n",
    "    \n",
    "    # Sample pts from standard uniform distribution in n dimensions, then scale and shift\n",
    "    pts = np.random.uniform(size=(n, N)).T\n",
    "    pts = (pts * (maxs-mins) + mins).T\n",
    "    \n",
    "    # Each column is a point\n",
    "\n",
    "    # Use equation (11.1) from lab PDF\n",
    "    return vol * np.mean(f(pts))\n",
    "\n",
    "\n",
    "def f(t):\n",
    "    x, y = t\n",
    "    return x**2 + y**2\n",
    "def g(t):\n",
    "    x, y = t\n",
    "    return 3*x - 4*y + y**2\n",
    "def h(t):\n",
    "    x, y, z, w = t\n",
    "    return x + y - w*z**2\n",
    "\n",
    "# mc_integrate(f, [0,0], [1,1]), mc_integrate(g, [1, -2], [3, 1]),\\\n",
    "# mc_integrate(h, [-1, -2, -3, -4], [1, 2, 3, 4])"
   ]
  },
  {
   "cell_type": "code",
   "execution_count": 205,
   "metadata": {},
   "outputs": [
    {
     "data": {
      "image/png": "[encoded data removed]",
      "text/plain": [
       "<Figure size 432x288 with 1 Axes>"
      ]
     },
     "metadata": {
      "needs_background": "light"
     },
     "output_type": "display_data"
    }
   ],
   "source": [
    "# Problem 4\n",
    "def prob4():\n",
    "    \"\"\"Let n=4 and Omega = [-3/2,3/4]x[0,1]x[0,1/2]x[0,1].\n",
    "    - Define the joint distribution f of n standard normal random variables.\n",
    "    - Use SciPy to integrate f over Omega.\n",
    "    - Get 20 integer values of N that are roughly logarithmically spaced from\n",
    "        10**1 to 10**5. For each value of N, use mc_integrate() to compute\n",
    "        estimates of the integral of f over Omega with N samples. Compute the\n",
    "        relative error of estimate.\n",
    "    - Plot the relative error against the sample size N on a log-log scale.\n",
    "        Also plot the line 1 / sqrt(N) for comparison.\n",
    "    \"\"\"\n",
    "    \n",
    "    # Define the bounds of integration\n",
    "    mins = np.array([-3/2, 0, 0, 0])\n",
    "    maxs = np.array([3/4, 1, 1/2, 1])\n",
    "\n",
    "    ### Get the \"exact\" value of the integral with SciPy\n",
    "    # The distribution has mean 0 and covariance I (the nxn identity)\n",
    "    means, cov = np.zeros(4), np.eye(4)\n",
    "    # Compute the integral with SciPy\n",
    "    F = stats.mvn.mvnun(mins, maxs, means, cov)[0]\n",
    "\n",
    "    def f(x):\n",
    "        '''x in R^4'''\n",
    "        n = 4\n",
    "        \n",
    "        # If x is a single point\n",
    "        if len(x.shape) == 1:\n",
    "            inner_prod = np.dot(x, x)\n",
    "        \n",
    "        # Elif x is an array of points\n",
    "        elif len(x.shape) == 2:\n",
    "            # Each column is a point, so transpose to get each point as a row\n",
    "            inner_prod = np.array([np.dot(t, t) for t in x.T])\n",
    "        \n",
    "        return np.exp(-inner_prod/2) / (2*np.pi)**(n/2)\n",
    "\n",
    "    # Get 20 integers log spaced between 10^1 = 1e1 and 10^5 = 1e5\n",
    "    N = np.logspace(1, 5, 20).astype(int)\n",
    "\n",
    "    # Estimate integral of f over domain with the n points for each n in N\n",
    "    estimates = np.array([mc_integrate(f, mins, maxs, n) for n in N])\n",
    "    \n",
    "    # Get relative error for each estimate\n",
    "    rel_error = np.abs((estimates - F)/F)\n",
    "\n",
    "    # Plot\n",
    "    plt.loglog(N, rel_error, label='Relative error')\n",
    "    plt.loglog(N, 1/(N)**(1/2), label='$1/\\sqrt{N}$')\n",
    "\n",
    "    # Plot properties\n",
    "    plt.legend()\n",
    "    plt.title('Relative error of Monte Carlo integration of multivariate normal')\n",
    "    plt.xlabel('Number of points ($N$)')\n",
    "    plt.show()\n",
    "\n",
    "\n",
    "prob4()"
   ]
  }
 ],
 "metadata": {
  "kernelspec": {
   "display_name": "base",
   "language": "python",
   "name": "python3"
  },
  "language_info": {
   "codemirror_mode": {
    "name": "ipython",
    "version": 3
   },
   "file_extension": ".py",
   "mimetype": "text/x-python",
   "name": "python",
   "nbconvert_exporter": "python",
   "pygments_lexer": "ipython3",
   "version": "3.9.12"
  },
  "orig_nbformat": 4,
  "vscode": {
   "interpreter": {
    "hash": "ad2bdc8ecc057115af97d19610ffacc2b4e99fae6737bb82f5d7fb13d2f2c186"
   }
  }
 },
 "nbformat": 4,
 "nbformat_minor": 2
}
